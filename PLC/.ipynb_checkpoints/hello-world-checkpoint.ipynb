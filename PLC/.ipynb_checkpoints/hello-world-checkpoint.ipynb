{
 "cells": [
  {
   "cell_type": "markdown",
   "metadata": {},
   "source": [
    "## Trabalho 0\n",
    "\n",
    "Criar um “hello world” para IPython+Numpy com os seguintes passos:\n",
    "\n",
    "\n",
    "Criar uma matriz de inteiros  $\\left\\{0,1\\right\\}$, aleatória, $A$ de dimensão $1024\\times 1024$ armazenada de forma compacta; usar Numpy.\n",
    "\n",
    "## Constantes\n",
    "    N - Número de linhas, colunas e incógnitas.\n",
    "    A - Matriz aleatória gerada por 0 e 1 (apartir do metodo randint). \n",
    "\n"
   ]
  },
  {
   "cell_type": "code",
   "execution_count": 1,
   "metadata": {},
   "outputs": [
    {
     "name": "stdout",
     "output_type": "stream",
     "text": [
      "1\n",
      "[[1 1 0 ..., 0 1 0]\n",
      " [1 1 1 ..., 0 0 0]\n",
      " [1 1 1 ..., 0 1 1]\n",
      " ..., \n",
      " [1 0 0 ..., 1 0 1]\n",
      " [1 0 1 ..., 0 1 0]\n",
      " [0 0 1 ..., 1 1 1]]\n"
     ]
    }
   ],
   "source": [
    "import numpy as np\n",
    "\n",
    "N = 1024 #1024\n",
    "A = np.random.randint(2,size = (N,N),dtype = np.uint8)\n",
    "print(A.itemsize)\n",
    "print(A)\n"
   ]
  },
  {
   "cell_type": "markdown",
   "metadata": {},
   "source": [
    "Explorar serializar/deserializar  $A$ usando pickle e JSON.\n",
    "\n",
    "### Pickle:\n",
    "    f - ficheiro que usamos para guardar a matriz comprimida\n",
    "    B - Matriz usada para verificar se a matriz A foi guardada com sucesso\n",
    "    \n",
    "    "
   ]
  },
  {
   "cell_type": "code",
   "execution_count": 8,
   "metadata": {},
   "outputs": [
    {
     "name": "stdout",
     "output_type": "stream",
     "text": [
      "True\n"
     ]
    }
   ],
   "source": [
    "import pickle as pk\n",
    "\n",
    "f = open('Matriz.txt','wb')\n",
    "\n",
    "\n",
    "pk.dump(np.packbits(A,axis = 1),f)\n",
    "\n",
    "\n",
    "f.close()\n",
    "\n",
    "f = open('Matriz.txt','rb')\n",
    "\n",
    "B = np.unpackbits(pk.load(f),axis = 1)\n",
    "\n",
    "f.close()\n",
    "\n",
    "print(np.array_equal(A,B))"
   ]
  },
  {
   "cell_type": "markdown",
   "metadata": {},
   "source": [
    "### JSON:\n",
    "    f - ficheiro que usamos para guardar a matriz comprimida\n",
    "    C - Matriz usada para verificar se a matriz A foi guardada com sucesso\n",
    "    "
   ]
  },
  {
   "cell_type": "code",
   "execution_count": 12,
   "metadata": {},
   "outputs": [
    {
     "name": "stdout",
     "output_type": "stream",
     "text": [
      "True\n"
     ]
    }
   ],
   "source": [
    "import json\n",
    "\n",
    "f = open('MatrizJSON.txt','w')\n",
    "\n",
    "json.dump(np.packbits(A,axis = 1).tolist(),f)\n",
    "\n",
    "f.close()\n",
    "\n",
    "f = open('MatrizJSON.txt','r')\n",
    "\n",
    "C = np.unpackbits(np.array(json.load(f),dtype = np.uint8 ), axis=1)\n",
    "\n",
    "f.close()\n",
    "\n",
    "print(np.array_equal(A,C))"
   ]
  },
  {
   "cell_type": "markdown",
   "metadata": {},
   "source": [
    "Criar um “hello world” para Numberjack e um optimization-solver  (SCIP, Mistral, etc) formalizando e resolvendo o problema de encontrar um vector $x$ de $1024$ componentes inteiras $0,1$ de maior peso $|x| = \\sum_i\\,x_i$ que verifica as restrições\n",
    "  1. Para todo $j$  tem-se $\\sum_i\\,A_{i,j}\\,x_i = 1$ \n",
    "  2. Para todo $i$  tem-se $\\sum_j\\,A_{i,j}\\,y_j = 1$\n",
    "\n",
    "Formula matemática do modelo usado para o problema:\n",
    "<br>\n",
    "$\\forall_{j\\leq N}.\\big(\\sum_{i\\leq N} A_{i,j}*x_{i}\\big) \\wedge\n",
    "\\forall_{i\\leq N}.\\big(\\sum_{j\\leq N} A_{i,j}*x_{j}\\big) $\n",
    "\n",
    "### Legenda:\n",
    "    SC - Variável temporária igual à soma de uma coluna.\n",
    "    SL - Variável temporária igual à soma de uma linha.\n",
    "    model - Modelo usado para o problema."
   ]
  },
  {
   "cell_type": "code",
   "execution_count": 13,
   "metadata": {},
   "outputs": [
    {
     "ename": "KeyboardInterrupt",
     "evalue": "",
     "output_type": "error",
     "traceback": [
      "\u001b[0;31m---------------------------------------------------------------------------\u001b[0m",
      "\u001b[0;31mKeyboardInterrupt\u001b[0m                         Traceback (most recent call last)",
      "\u001b[0;32m<ipython-input-13-329994daa134>\u001b[0m in \u001b[0;36m<module>\u001b[0;34m()\u001b[0m\n\u001b[1;32m      9\u001b[0m     \u001b[0mSC\u001b[0m \u001b[0;34m=\u001b[0m \u001b[0;36m0\u001b[0m\u001b[0;34m\u001b[0m\u001b[0m\n\u001b[1;32m     10\u001b[0m     \u001b[0;32mfor\u001b[0m \u001b[0mi\u001b[0m \u001b[0;32min\u001b[0m \u001b[0mrange\u001b[0m\u001b[0;34m(\u001b[0m\u001b[0mN\u001b[0m\u001b[0;34m)\u001b[0m\u001b[0;34m:\u001b[0m\u001b[0;34m\u001b[0m\u001b[0m\n\u001b[0;32m---> 11\u001b[0;31m         \u001b[0mSC\u001b[0m \u001b[0;34m+=\u001b[0m \u001b[0mA\u001b[0m\u001b[0;34m[\u001b[0m\u001b[0mi\u001b[0m\u001b[0;34m,\u001b[0m\u001b[0mj\u001b[0m\u001b[0;34m]\u001b[0m\u001b[0;34m*\u001b[0m\u001b[0mx\u001b[0m\u001b[0;34m[\u001b[0m\u001b[0mi\u001b[0m\u001b[0;34m]\u001b[0m\u001b[0;34m\u001b[0m\u001b[0m\n\u001b[0m\u001b[1;32m     12\u001b[0m     \u001b[0mmodel\u001b[0m\u001b[0;34m.\u001b[0m\u001b[0madd\u001b[0m\u001b[0;34m(\u001b[0m\u001b[0mSC\u001b[0m\u001b[0;34m==\u001b[0m\u001b[0;36m1\u001b[0m\u001b[0;34m)\u001b[0m\u001b[0;34m\u001b[0m\u001b[0m\n\u001b[1;32m     13\u001b[0m \u001b[0;34m\u001b[0m\u001b[0m\n",
      "\u001b[0;31mKeyboardInterrupt\u001b[0m: "
     ]
    }
   ],
   "source": [
    "from Numberjack import *\n",
    "\n",
    "x = VarArray(N)\n",
    "model = Model()\n",
    "model.add(Maximise(sum(x)))\n",
    "\n",
    "\n",
    "for j in range(N):\n",
    "    SC = 0\n",
    "    for i in range(N):\n",
    "        SC += A[i,j]*x[i]\n",
    "    model.add(SC==1)\n",
    "    \n",
    "for i in range(N):\n",
    "    SL = 0\n",
    "    for j in range(N):\n",
    "        SL += A[i,j]*x[j]\n",
    "    model.add(SL==1)\n",
    "\n",
    "if model.load('SCIP').solve():\n",
    "    for i in range(N):\n",
    "        print(x[i].get_value(), end = ', ')\n",
    "else:\n",
    "    print('Não tem Solução')\n"
   ]
  }
 ],
 "metadata": {
  "kernelspec": {
   "display_name": "Python 3",
   "language": "python",
   "name": "python3"
  },
  "language_info": {
   "codemirror_mode": {
    "name": "ipython",
    "version": 3
   },
   "file_extension": ".py",
   "mimetype": "text/x-python",
   "name": "python",
   "nbconvert_exporter": "python",
   "pygments_lexer": "ipython3",
   "version": "3.6.2"
  }
 },
 "nbformat": 4,
 "nbformat_minor": 2
}
